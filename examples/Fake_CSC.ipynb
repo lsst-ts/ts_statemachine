{
 "cells": [
  {
   "cell_type": "code",
   "execution_count": null,
   "metadata": {},
   "outputs": [],
   "source": [
    "from lsst.ts.salpytools import salpylib \n",
    "from lsst.ts.statemachine import Context\n",
    "import logging"
   ]
  },
  {
   "cell_type": "code",
   "execution_count": null,
   "metadata": {},
   "outputs": [],
   "source": [
    "logging.basicConfig(level=logging.DEBUG,\n",
    "                        format='[%(asctime)s] [%(levelname)s] %(message)s',\n",
    "                        datefmt='%Y-%m-%d %H:%M:%S')"
   ]
  },
  {
   "cell_type": "code",
   "execution_count": null,
   "metadata": {},
   "outputs": [],
   "source": [
    "class FakeModel():\n",
    "    \"\"\"A fake model to represent a real one. All that is require is that is has a change_state() method. Generally\n",
    "    the model will be a high level access point to your application. All operations can be done by access to the model.\n",
    "    The states in this state machine never have access to your application, other than the methods that model has\"\"\"\n",
    "    def __init__(self):\n",
    "        \n",
    "        self.state = \"OFFLINE\"\n",
    "        \n",
    "    def change_state(self, state_value):\n",
    "        self.state = state_value"
   ]
  },
  {
   "cell_type": "code",
   "execution_count": null,
   "metadata": {},
   "outputs": [],
   "source": [
    "class FakeSchedulerCSC():\n",
    "    \n",
    "    def __init__(self):\n",
    "        self.subsystem_tag = 'scheduler'\n",
    "        self.model = FakeModel()\n",
    "        self.context = Context(self.subsystem_tag, self.model)\n",
    "        \n",
    "        print(self.context.states[\"OFFLINE\"])\n",
    "        \n",
    "        self.enter_control = salpylib.DDSController(self.context, 'enterControl')  # OFFLINE >> STANDBY\n",
    "        self.start = salpylib.DDSController(self.context, 'start')  # STANDBY >> DISABLE\n",
    "        self.enable = salpylib.DDSController(self.context, 'enable')  # DISABLE >> ENABLE\n",
    "        self.disable = salpylib.DDSController(self.context, 'disable')  # ENABLE >> DISABLE\n",
    "        self.standby = salpylib.DDSController(self.context, 'standby')  #  DISABLE >> STANDBY\n",
    "        self.exit_control = salpylib.DDSController(self.context, 'exitControl')  # STANDBY >> OFFLINE\n",
    "        \n",
    "        self.enter_control.start()\n",
    "        self.start.start()\n",
    "        self.enable.start()\n",
    "        self.disable.start()\n",
    "        self.standby.start()\n",
    "        self.exit_control.start()"
   ]
  },
  {
   "cell_type": "code",
   "execution_count": null,
   "metadata": {
    "scrolled": true
   },
   "outputs": [],
   "source": [
    "fake_csc = FakeSchedulerCSC()"
   ]
  },
  {
   "cell_type": "code",
   "execution_count": null,
   "metadata": {},
   "outputs": [],
   "source": [
    "fake_csc.context.current_state"
   ]
  },
  {
   "cell_type": "code",
   "execution_count": null,
   "metadata": {},
   "outputs": [],
   "source": [
    "fake_csc.context.current_state"
   ]
  },
  {
   "cell_type": "code",
   "execution_count": null,
   "metadata": {},
   "outputs": [],
   "source": [
    "fake_csc.context.current_state"
   ]
  },
  {
   "cell_type": "code",
   "execution_count": null,
   "metadata": {},
   "outputs": [],
   "source": []
  }
 ],
 "metadata": {
  "kernelspec": {
   "display_name": "Python 3",
   "language": "python",
   "name": "python3"
  },
  "language_info": {
   "codemirror_mode": {
    "name": "ipython",
    "version": 3
   },
   "file_extension": ".py",
   "mimetype": "text/x-python",
   "name": "python",
   "nbconvert_exporter": "python",
   "pygments_lexer": "ipython3",
   "version": "3.6.2"
  }
 },
 "nbformat": 4,
 "nbformat_minor": 2
}
